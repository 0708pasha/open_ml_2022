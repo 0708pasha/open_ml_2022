{
 "cells": [
  {
   "cell_type": "markdown",
   "id": "f6f39772",
   "metadata": {},
   "source": [
    "# python skills"
   ]
  },
  {
   "cell_type": "markdown",
   "id": "1c1fcd44",
   "metadata": {},
   "source": [
    "# 1"
   ]
  },
  {
   "cell_type": "markdown",
   "id": "48162693",
   "metadata": {},
   "source": [
    "Write a code that calculates the sum of all numbers satisfying the following conditions:\n",
    "positive integers from 1 to 1_000_000_002 (one billion two) inclusive\n",
    "which are completely (without remainder) divisible by 3 (example: 3, 6, 9, ...)\n",
    "and which do not end in 4 and 7 (example ending in 4 and 7: 24, 27, 54, 57 ...)"
   ]
  },
  {
   "cell_type": "markdown",
   "id": "4b7eedd8",
   "metadata": {},
   "source": [
    "### draft"
   ]
  },
  {
   "cell_type": "code",
   "execution_count": 51,
   "id": "5978ae92",
   "metadata": {},
   "outputs": [
    {
     "name": "stdout",
     "output_type": "stream",
     "text": [
      "1\n",
      "2\n",
      "3\n",
      "4\n",
      "5\n",
      "6\n",
      "7\n",
      "8\n",
      "9\n",
      "10\n",
      "133333334466666672\n",
      "CPU times: user 3min 27s, sys: 53.7 ms, total: 3min 27s\n",
      "Wall time: 3min 27s\n"
     ]
    }
   ],
   "source": [
    "%%time\n",
    "a = 0\n",
    "summ = 0\n",
    "for i in range(3,1_000_000_003,3):\n",
    "    if ((i-4) % 10 != 0) and ((i-7) % 10 != 0):\n",
    "        summ += i\n",
    "    if i // 100_000_000 >= 1 and (i // 100_000_000) != a:\n",
    "        print(i // 100_000_000)\n",
    "        a = i // 100_000_000\n",
    "print(summ)"
   ]
  },
  {
   "cell_type": "markdown",
   "id": "1261d98d",
   "metadata": {},
   "source": [
    "### clear"
   ]
  },
  {
   "cell_type": "code",
   "execution_count": 55,
   "id": "6ce15e94",
   "metadata": {},
   "outputs": [
    {
     "name": "stdout",
     "output_type": "stream",
     "text": [
      "133333334466666672\n"
     ]
    }
   ],
   "source": [
    "summ = 0\n",
    "for i in range(3,1_000_000_003,3):\n",
    "    if ((i-4) % 10 != 0) and ((i-7) % 10 != 0):\n",
    "        summ += i\n",
    "print(summ)"
   ]
  },
  {
   "cell_type": "markdown",
   "id": "c02289ae",
   "metadata": {},
   "source": [
    "# 2"
   ]
  },
  {
   "cell_type": "markdown",
   "id": "78ea8077",
   "metadata": {},
   "source": [
    "A text file of 3 thousand lines is received at the input\n",
    "\n",
    "File format:\n",
    "\"arithmetic operation\" \"integer #1\" \"integer #2\"\n",
    "Separator - 4 spaces\n",
    "\n",
    "\n",
    "You need to prepare a text file of 1 line.\n",
    "The string contains a set of 3 thousand numbers separated by a comma. \n",
    "No comma is placed after the last number.\n",
    "each number is the result of the operation:\n",
    "\"resulting integer\" = \"integer #1\" apply \"arithmetic operation\" \"integer #2\""
   ]
  },
  {
   "cell_type": "code",
   "execution_count": 163,
   "id": "65516e5a",
   "metadata": {},
   "outputs": [],
   "source": [
    "with open('input_file.txt', 'r') as f:\n",
    "    f = f.readlines()\n",
    "op = {'+': lambda x, y: x + y,\n",
    "      '-': lambda x, y: x - y,\n",
    "      '*': lambda x, y: x * y,\n",
    "      '//': lambda x, y: x // y,\n",
    "      '%': lambda x, y: x % y,\n",
    "      '**': lambda x, y: x ** y\n",
    "     }\n",
    "l = []\n",
    "for i in f:\n",
    "    a = i.strip().split('    ')\n",
    "    res = op[a[0]](int(a[1]),int(a[2]))\n",
    "    l.append(res)\n",
    "with open('output_file.txt', 'w') as f:\n",
    "    res = str(l).strip('[]').replace(' ', '')\n",
    "    f.write(res)"
   ]
  },
  {
   "cell_type": "markdown",
   "id": "fc785a81",
   "metadata": {},
   "source": [
    "# 3"
   ]
  },
  {
   "cell_type": "code",
   "execution_count": null,
   "id": "3b5a43f6",
   "metadata": {},
   "outputs": [],
   "source": []
  }
 ],
 "metadata": {
  "kernelspec": {
   "display_name": "Python 3 (ipykernel)",
   "language": "python",
   "name": "python3"
  },
  "language_info": {
   "codemirror_mode": {
    "name": "ipython",
    "version": 3
   },
   "file_extension": ".py",
   "mimetype": "text/x-python",
   "name": "python",
   "nbconvert_exporter": "python",
   "pygments_lexer": "ipython3",
   "version": "3.9.10"
  },
  "varInspector": {
   "cols": {
    "lenName": 16,
    "lenType": 16,
    "lenVar": 40
   },
   "kernels_config": {
    "python": {
     "delete_cmd_postfix": "",
     "delete_cmd_prefix": "del ",
     "library": "var_list.py",
     "varRefreshCmd": "print(var_dic_list())"
    },
    "r": {
     "delete_cmd_postfix": ") ",
     "delete_cmd_prefix": "rm(",
     "library": "var_list.r",
     "varRefreshCmd": "cat(var_dic_list()) "
    }
   },
   "types_to_exclude": [
    "module",
    "function",
    "builtin_function_or_method",
    "instance",
    "_Feature"
   ],
   "window_display": false
  }
 },
 "nbformat": 4,
 "nbformat_minor": 5
}
